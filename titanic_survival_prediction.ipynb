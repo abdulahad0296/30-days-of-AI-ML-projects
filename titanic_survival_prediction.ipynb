{
  "nbformat": 4,
  "nbformat_minor": 0,
  "metadata": {
    "colab": {
      "provenance": [],
      "mount_file_id": "1FtBMgtezKQBxUOQLC7Dclui3px4taRL0",
      "authorship_tag": "ABX9TyOdfMRurP7Kt0NMwOITS0UP",
      "include_colab_link": true
    },
    "kernelspec": {
      "name": "python3",
      "display_name": "Python 3"
    },
    "language_info": {
      "name": "python"
    }
  },
  "cells": [
    {
      "cell_type": "markdown",
      "metadata": {
        "id": "view-in-github",
        "colab_type": "text"
      },
      "source": [
        "<a href=\"https://colab.research.google.com/github/abdulahad0296/30-days-of-AI-ML-projects/blob/main/titanic_survival_prediction.ipynb\" target=\"_parent\"><img src=\"https://colab.research.google.com/assets/colab-badge.svg\" alt=\"Open In Colab\"/></a>"
      ]
    },
    {
      "cell_type": "markdown",
      "source": [
        "\n",
        "#**Day 01 - Titanic Survival Prediction (Logistic Regression vs Random Forest)**\n",
        "\n",
        "**Objective:** Predict Titanic survivors using two different ML models and compare their performance.\n",
        "\n",
        "**Models Used:** Logistic Regression, Random Forest Classifier\n",
        "\n",
        "**Dataset Source:** Seaborn Titanic dataset"
      ],
      "metadata": {
        "id": "g7QCGrYfx0FM"
      }
    },
    {
      "cell_type": "code",
      "source": [
        "# Importing Libraries\n",
        "import pandas as pd\n",
        "import numpy as np\n",
        "import seaborn as sns\n",
        "import matplotlib.pyplot as plt\n",
        "\n",
        "from sklearn.model_selection import train_test_split\n",
        "from sklearn.linear_model import LogisticRegression\n",
        "from sklearn.ensemble import RandomForestClassifier\n",
        "from sklearn.metrics import accuracy_score, confusion_matrix, classification_report"
      ],
      "metadata": {
        "id": "KDfsBUUuyKcW"
      },
      "execution_count": 1,
      "outputs": []
    },
    {
      "cell_type": "markdown",
      "source": [
        "### **Step 1: Load and Preprocess the Dataset**"
      ],
      "metadata": {
        "id": "1o2SeC87kUvX"
      }
    },
    {
      "cell_type": "code",
      "source": [
        "# Load dataset\n",
        "df = sns.load_dataset(\"titanic\")\n",
        "\n",
        "# Keep only relevant columns\n",
        "df = df[['survived', 'pclass', 'age', 'sibsp', 'parch', 'fare', 'alone', 'sex', 'embarked']]\n",
        "\n",
        "# Drop rows with missing values in selected columns\n",
        "df.dropna(inplace=True)\n",
        "\n",
        "# One-hot encode 'sex' and 'embarked' (drop_first to avoid dummy trap)\n",
        "df = pd.get_dummies(df, columns=['sex', 'embarked'], drop_first=True)\n",
        "\n",
        "# Confirm final columns\n",
        "print(\"Columns used:\", df.columns.tolist())"
      ],
      "metadata": {
        "colab": {
          "base_uri": "https://localhost:8080/"
        },
        "id": "4HmZOIz2kflH",
        "outputId": "c4f17360-e721-450f-d883-a8c69f82e5f0"
      },
      "execution_count": 6,
      "outputs": [
        {
          "output_type": "stream",
          "name": "stdout",
          "text": [
            "Columns used: ['survived', 'pclass', 'age', 'sibsp', 'parch', 'fare', 'alone', 'sex_male', 'embarked_Q', 'embarked_S']\n"
          ]
        }
      ]
    },
    {
      "cell_type": "markdown",
      "source": [
        "## **Step 2: Train-Test Split**"
      ],
      "metadata": {
        "id": "F1aPsecdrMzU"
      }
    },
    {
      "cell_type": "code",
      "source": [
        "# Features and labels\n",
        "X = df.drop('survived', axis=1)\n",
        "y = df['survived']\n",
        "\n",
        "# Train-test split\n",
        "X_train, X_test, y_train, y_test = train_test_split(X, y, test_size=0.2, random_state=42)"
      ],
      "metadata": {
        "id": "SdL0Z3SWo9hk"
      },
      "execution_count": 7,
      "outputs": []
    },
    {
      "cell_type": "markdown",
      "source": [
        "##**Step 3: Train Logistic Regression**"
      ],
      "metadata": {
        "id": "3ocqwjiwrcFY"
      }
    },
    {
      "cell_type": "code",
      "source": [
        "logreg = LogisticRegression(max_iter=1000)\n",
        "logreg.fit(X_train, y_train)\n",
        "y_pred_logreg = logreg.predict(X_test)"
      ],
      "metadata": {
        "id": "-a5FliUqpATf"
      },
      "execution_count": 9,
      "outputs": []
    },
    {
      "cell_type": "markdown",
      "source": [
        "##**Step 4: Train Random Forest Classifier**"
      ],
      "metadata": {
        "id": "qOlA0GhwroaV"
      }
    },
    {
      "cell_type": "code",
      "source": [
        "rf = RandomForestClassifier(n_estimators=100, random_state=42)\n",
        "rf.fit(X_train, y_train)\n",
        "y_pred_rf = rf.predict(X_test)"
      ],
      "metadata": {
        "id": "ZrMZwQp0pLJ0"
      },
      "execution_count": 10,
      "outputs": []
    },
    {
      "cell_type": "markdown",
      "source": [
        "##**Step 5: Compare Model Accuracy**"
      ],
      "metadata": {
        "id": "7huHdmK3rzlx"
      }
    },
    {
      "cell_type": "code",
      "source": [
        "print(\"=== Logistic Regression ===\")\n",
        "print(\"Accuracy:\", accuracy_score(y_test, y_pred_logreg))\n",
        "print(\"Confusion Matrix:\\n\", confusion_matrix(y_test, y_pred_logreg))\n",
        "print(\"Classification Report:\\n\", classification_report(y_test, y_pred_logreg))\n",
        "\n",
        "print(\"\\n=== Random Forest Classifier ===\")\n",
        "print(\"Accuracy:\", accuracy_score(y_test, y_pred_rf))\n",
        "print(\"Confusion Matrix:\\n\", confusion_matrix(y_test, y_pred_rf))\n",
        "print(\"Classification Report:\\n\", classification_report(y_test, y_pred_rf))"
      ],
      "metadata": {
        "colab": {
          "base_uri": "https://localhost:8080/"
        },
        "id": "6fBaBgEBpRst",
        "outputId": "823d2661-7f8a-458d-805a-b974631198eb"
      },
      "execution_count": 11,
      "outputs": [
        {
          "output_type": "stream",
          "name": "stdout",
          "text": [
            "=== Logistic Regression ===\n",
            "Accuracy: 0.7902097902097902\n",
            "Confusion Matrix:\n",
            " [[71  9]\n",
            " [21 42]]\n",
            "Classification Report:\n",
            "               precision    recall  f1-score   support\n",
            "\n",
            "           0       0.77      0.89      0.83        80\n",
            "           1       0.82      0.67      0.74        63\n",
            "\n",
            "    accuracy                           0.79       143\n",
            "   macro avg       0.80      0.78      0.78       143\n",
            "weighted avg       0.79      0.79      0.79       143\n",
            "\n",
            "\n",
            "=== Random Forest Classifier ===\n",
            "Accuracy: 0.7972027972027972\n",
            "Confusion Matrix:\n",
            " [[68 12]\n",
            " [17 46]]\n",
            "Classification Report:\n",
            "               precision    recall  f1-score   support\n",
            "\n",
            "           0       0.80      0.85      0.82        80\n",
            "           1       0.79      0.73      0.76        63\n",
            "\n",
            "    accuracy                           0.80       143\n",
            "   macro avg       0.80      0.79      0.79       143\n",
            "weighted avg       0.80      0.80      0.80       143\n",
            "\n"
          ]
        }
      ]
    },
    {
      "cell_type": "code",
      "source": [
        "\n",
        "# Accuracy scores for Logistic Regression and Random Forest\n",
        "accuracy_logreg = accuracy_score(y_test, y_pred_logreg)\n",
        "accuracy_rf = accuracy_score(y_test, y_pred_rf)\n",
        "\n",
        "# Models and their accuracy scores\n",
        "models = ['Logistic Regression', 'Random Forest']\n",
        "scores = [accuracy_logreg, accuracy_rf]\n",
        "\n",
        "# Create the bar plot\n",
        "plt.figure(figsize=(8, 6))\n",
        "bars = plt.bar(models, scores, color=['#800000', '#006400'], edgecolor='black', linewidth=1.5)  # Maroon & Dark Green\n",
        "\n",
        "# Add accuracy values above the bars\n",
        "for bar, score in zip(bars, scores):\n",
        "    plt.text(bar.get_x() + bar.get_width() / 2, bar.get_height() + 0.02, f'{score:.2f}',\n",
        "             ha='center', va='bottom', fontsize=12, fontweight='bold')\n",
        "\n",
        "# Customize plot\n",
        "plt.ylabel('Accuracy', fontsize=14)\n",
        "plt.title('Model Accuracy Comparison', fontsize=16)\n",
        "plt.ylim(0, 1)  # Set y-axis limit from 0 to 1 for accuracy scale\n",
        "plt.xticks(fontsize=12)\n",
        "plt.yticks(fontsize=12)\n",
        "plt.tight_layout()\n",
        "\n",
        "# Save and show the plot\n",
        "plt.savefig('preview.png')  # Saves the plot as preview.png\n",
        "plt.show()"
      ],
      "metadata": {
        "colab": {
          "base_uri": "https://localhost:8080/",
          "height": 310
        },
        "id": "Fjf51ukZqsDH",
        "outputId": "12791a82-b344-40ae-d489-e6a776d87a77"
      },
      "execution_count": 16,
      "outputs": [
        {
          "output_type": "display_data",
          "data": {
            "text/plain": [
              "<Figure size 800x600 with 1 Axes>"
            ],
            "image/png": "[encoded data removed]"
          },
          "metadata": {}
        }
      ]
    },
    {
      "cell_type": "code",
      "source": [
        "import seaborn as sns\n",
        "import matplotlib.pyplot as plt\n",
        "from sklearn.metrics import confusion_matrix\n",
        "\n",
        "# Random Forest\n",
        "cm_rf = confusion_matrix(y_test, y_pred_rf)\n",
        "sns.heatmap(cm_rf, annot=True, fmt='d', cmap='Blues')\n",
        "plt.title('Random Forest Confusion Matrix')\n",
        "plt.savefig('preview.png')  # Saves image for GitHub\n",
        "plt.show()"
      ],
      "metadata": {
        "colab": {
          "base_uri": "https://localhost:8080/",
          "height": 351
        },
        "id": "z0Gq55GSsL6A",
        "outputId": "eb0f93ac-3c0b-43da-b509-50e13e05d463"
      },
      "execution_count": 13,
      "outputs": [
        {
          "output_type": "display_data",
          "data": {
            "text/plain": [
              "<Figure size 640x480 with 2 Axes>"
            ],
            "image/png": "[encoded data removed]"
          },
          "metadata": {}
        }
      ]
    }
  ]
}